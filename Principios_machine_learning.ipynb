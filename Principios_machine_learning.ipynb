{
 "cells": [
  {
   "cell_type": "markdown",
   "metadata": {},
   "source": [
    "# Principios de machine learning -- utilizando scikit-learn\n",
    "Estudio y flujo de cómo trabajar con machine learning en python con las bibliotecas y librerias scikit-learn\n",
    "\n",
    "Scikit-learn es una librería de Machine Learning de código abierto que contiene herramientas para pre-procesamiento de datos, entrenamiento y generación de predicciones con diferentes modelos clásicos y selección y validación de modelos, entre otras."
   ]
  },
  {
   "cell_type": "markdown",
   "metadata": {},
   "source": [
    "![flujo_de_selección_de_métodos_de_machine_learning](ml_map.png)"
   ]
  },
  {
   "cell_type": "markdown",
   "metadata": {},
   "source": [
    "Imagen superior: Distintos modelos de algoritmos de machine learning que ofrece scikit-learn como:\n",
    "- **Modelos de regresión**: para predecir valores continuos.\n",
    "- **Aprendizaje supervisado** (Algoritmos de clasificación): asignan categorías o etiquetas según los datos proporcionados. \n",
    "- **Aprendizaje no supervisado** (clustering): El modelo se encarga de agrupar y encontrar los conjuntos de categorías.\n",
    "- **Algoritmos de reducción de dimensionalidad**: se usan para simplificar la representación de los datos para entrenar a un modelo."
   ]
  },
  {
   "cell_type": "markdown",
   "metadata": {},
   "source": [
    "## Flujo de trabajo báscio utilizando scikit learn\n",
    "Flujo principal que se realiza a la hora de crear modelos y entrenarlos para realizar predicciones en base a unos datos\n",
    "\n",
    "![Flujo_ML_scikit-learn](Flujo_sckiti-learn-ML.png)"
   ]
  },
  {
   "cell_type": "markdown",
   "metadata": {},
   "source": [
    "## Creación de un modelo de ML, con aprendizaje supervisado, sin utilizar pipelines"
   ]
  },
  {
   "cell_type": "markdown",
   "metadata": {},
   "source": [
    "-------------------"
   ]
  },
  {
   "cell_type": "markdown",
   "metadata": {},
   "source": [
    "### 1. **Pre-procesamiento**: generamos las particiones de los datos de entrenamiento, validación y testeo o prueba\n",
    "- utilizaremos el método `train_test_split`, que te genera 2 particiones de datos."
   ]
  },
  {
   "cell_type": "code",
   "execution_count": 7,
   "metadata": {},
   "outputs": [
    {
     "name": "stdout",
     "output_type": "stream",
     "text": [
      "(20, 3)\n",
      "(20,)\n"
     ]
    }
   ],
   "source": [
    "import numpy as np #necesitamos la librería numpy para poder trabajar con arrays\n",
    "\n",
    "# Cargamos los datos con arreglos realizados en numpy y los adjudicamos a una variable X y otra Y\n",
    "X = np.load('particiones-datos-balanceados.npz')['X']\n",
    "Y = np.load('particiones-datos-balanceados.npz')['Y']\n",
    "\n",
    "print(X.shape) # El arreglo de entrada al modelo (20 datos,3 características)\n",
    "print(Y.shape) # Esta será la variable que deberá aprender el modelo y predecir sus características (20,)"
   ]
  },
  {
   "cell_type": "code",
   "execution_count": 8,
   "metadata": {},
   "outputs": [
    {
     "data": {
      "text/plain": [
       "array([[-0.75275929,  1.11852895, -7.5592353 ],\n",
       "       [ 2.70428584, -3.60506139, -0.0964618 ],\n",
       "       [ 1.39196365, -2.07855351, -9.31222958],\n",
       "       [ 0.59195091, -1.33638157,  8.18640804],\n",
       "       [-2.06388816, -0.43930016, -4.82440037],\n",
       "       [-2.06403288,  2.85175961,  3.25044569],\n",
       "       [-2.65149833, -3.00326218, -3.76577848],\n",
       "       [ 2.19705687,  0.14234438,  0.40136042],\n",
       "       [ 0.60669007,  0.92414569,  0.93420559],\n",
       "       [ 1.24843547, -4.53549587, -6.30291089],\n",
       "       [-2.87649303,  1.07544852,  9.39169256],\n",
       "       [ 2.81945911, -3.29475876,  5.50265647],\n",
       "       [ 1.99465584, -4.34948407,  8.78997883],\n",
       "       [-1.72596534,  4.48885537,  7.89654701],\n",
       "       [-1.9090502 ,  4.65632033,  1.95799958],\n",
       "       [-1.89957294,  3.08397348,  8.4374847 ],\n",
       "       [-1.17454654, -1.95386231, -8.23014996],\n",
       "       [ 0.14853859, -4.02327886, -6.08034275],\n",
       "       [-0.40832989,  1.84233027, -9.09545422],\n",
       "       [-1.25262516, -0.59847506, -3.49339338]])"
      ]
     },
     "execution_count": 8,
     "metadata": {},
     "output_type": "execute_result"
    }
   ],
   "source": [
    "X # Para ver los datos que componen al array, datos numéricos de entre "
   ]
  },
  {
   "cell_type": "code",
   "execution_count": 9,
   "metadata": {},
   "outputs": [
    {
     "data": {
      "text/plain": [
       "array([1, 1, 1, 0, 1, 0, 0, 1, 0, 1, 0, 0, 1, 0, 1, 1, 0, 0, 0, 0])"
      ]
     },
     "execution_count": 9,
     "metadata": {},
     "output_type": "execute_result"
    }
   ],
   "source": [
    "Y # Los datos que componen a la variable Y, siendo datos entre binarios 0 y 1"
   ]
  },
  {
   "cell_type": "markdown",
   "metadata": {},
   "source": [
    "#### 1.1 Script de pre-procesamiento - **generador de particiones**"
   ]
  },
  {
   "cell_type": "code",
   "execution_count": 8,
   "metadata": {},
   "outputs": [
    {
     "name": "stdout",
     "output_type": "stream",
     "text": [
      "Tamaños: \n",
      "\tDataset original:  (20, 3) (20,)\n",
      "\tEntrenamiento:  (12, 3) (12,)\n",
      "\tValidación:  (4, 3) (4,)\n",
      "\tTesteo:  (4, 3) (4,)\n",
      "\tProporciones de las categorias (entre 0/1): \n",
      "\tDataset original: 0.55/0.45\n",
      "\tEntrenamiento: 0.5833333333333334/0.4166666666666667\n",
      "\tValidación: 0.5/0.5\n",
      "\tTesteo: 0.5/0.5\n"
     ]
    }
   ],
   "source": [
    "# Primero seleccionamos el modelo: train_test_split\n",
    "from sklearn.model_selection import train_test_split\n",
    "\n",
    "# Primera partición: 60% entrenamiento - 40% resto\n",
    "x_train, x_resto, y_train, y_resto = train_test_split(\n",
    "    X, Y, test_size=0.40, random_state=123\n",
    ") # test_size es para hacer la division porcentual. \n",
    "  # random_state para crear la semilla aleatoria y no los obtenga siempre de las primeras filas\n",
    "\n",
    "# Segunda partición: del 40%, 20% para la validación - 20% para testeo\n",
    "x_val, x_test, y_val, y_test = train_test_split(\n",
    "    x_resto, y_resto, test_size=0.5, random_state=321\n",
    ")\n",
    "\n",
    "# Verificación de datos:\n",
    "print('Tamaños: ')\n",
    "print('\\tDataset original: ', X.shape, Y.shape)\n",
    "print('\\tEntrenamiento: ', x_train.shape, y_train.shape)\n",
    "print('\\tValidación: ', x_val.shape, y_val.shape)\n",
    "print('\\tTesteo: ', x_test.shape, y_test.shape)\n",
    "\n",
    "print('\\tProporciones de las categorias (entre 0/1): ')\n",
    "print(f'\\tDataset original: {np.sum(Y==0)/len(Y)}/{np.sum(Y==1)/len(Y)}') # Con esto comprobaremos la relacion entre 0 y 1 y veremos si esta desbalanceada\n",
    "print(f'\\tEntrenamiento: {np.sum(y_train==0)/len(y_train)}/{np.sum(y_train==1)/len(y_train)}') # len() es para la longitud del array\n",
    "print(f'\\tValidación: {np.sum(y_val==0)/len(y_val)}/{np.sum(y_val==1)/len(y_val)}')\n",
    "print(f'\\tTesteo: {np.sum(y_test==0)/len(y_test)}/{np.sum(y_test==1)/len(y_test)}')\n"
   ]
  },
  {
   "cell_type": "markdown",
   "metadata": {},
   "source": [
    "- Con datos desbalanceados quedaría de la siguiente manera:"
   ]
  },
  {
   "cell_type": "code",
   "execution_count": 5,
   "metadata": {},
   "outputs": [
    {
     "name": "stdout",
     "output_type": "stream",
     "text": [
      "[[-0.75275929  1.11852895 -7.5592353 ]\n",
      " [ 2.70428584 -3.60506139 -0.0964618 ]\n",
      " [ 1.39196365 -2.07855351 -9.31222958]\n",
      " [ 0.59195091 -1.33638157  8.18640804]\n",
      " [-2.06388816 -0.43930016 -4.82440037]\n",
      " [-2.06403288  2.85175961  3.25044569]\n",
      " [-2.65149833 -3.00326218 -3.76577848]\n",
      " [ 2.19705687  0.14234438  0.40136042]\n",
      " [ 0.60669007  0.92414569  0.93420559]\n",
      " [ 1.24843547 -4.53549587 -6.30291089]\n",
      " [-2.87649303  1.07544852  9.39169256]\n",
      " [ 2.81945911 -3.29475876  5.50265647]\n",
      " [ 1.99465584 -4.34948407  8.78997883]\n",
      " [-1.72596534  4.48885537  7.89654701]\n",
      " [-1.9090502   4.65632033  1.95799958]\n",
      " [-1.89957294  3.08397348  8.4374847 ]\n",
      " [-1.17454654 -1.95386231 -8.23014996]\n",
      " [ 0.14853859 -4.02327886 -6.08034275]\n",
      " [-0.40832989  1.84233027 -9.09545422]\n",
      " [-1.25262516 -0.59847506 -3.49339338]]\n",
      "[1 0 1 0 1 0 0 0 0 1 0 0 0 0 0 0 0 0 0 0]\n"
     ]
    }
   ],
   "source": [
    "# Cargamos los datos con arreglos realizados en numpy y los adjudicamos a una variable X y otra Y\n",
    "X = np.load('particiones-datos-desbalanceados.npz')['X']\n",
    "Y = np.load('particiones-datos-desbalanceados.npz')['Y']\n",
    "\n",
    "# Esto sería para comprobar los array de datos desbalanceados\n",
    "print(X)\n",
    "print(Y) "
   ]
  },
  {
   "cell_type": "code",
   "execution_count": 6,
   "metadata": {},
   "outputs": [
    {
     "name": "stdout",
     "output_type": "stream",
     "text": [
      "\tDataset original: 0.8/0.2\n"
     ]
    }
   ],
   "source": [
    "print(f'\\tDataset original: {np.sum(Y==0)/len(Y)}/{np.sum(Y==1)/len(Y)}')\n",
    "\n",
    "# Con esta línea de código, comprobamos que existe un desbalance de 80 - 20 de los datos.\n"
   ]
  },
  {
   "cell_type": "markdown",
   "metadata": {},
   "source": [
    "#### 1.2 Script de **pre-procesamiento** - transformadores"
   ]
  },
  {
   "cell_type": "markdown",
   "metadata": {},
   "source": [
    "- Con los transformadores conseguiremos escalar (`RobustScaler`, `MinMaxScaler`, `StandardScaler`), codificar(`LabelEncoder`, `OneHotEncoder`) y/o reducir (`PCA`) los datos a lo que necesitemos para realizar un correcto entrenamiento del modelo\n",
    "\n",
    "- En este caso vamos a trabajar con los valores **máximos y minimos** de nuestro set de entrenamiento para escalarlo"
   ]
  },
  {
   "cell_type": "code",
   "execution_count": 13,
   "metadata": {},
   "outputs": [
    {
     "name": "stdout",
     "output_type": "stream",
     "text": [
      "x_train: [-2.87649303 -4.53549587 -9.31222958]/[2.81945911 4.48885537 9.39169256]\n",
      "x_val: [-2.06403288 -4.34948407 -4.82440037]/[1.99465584 2.85175961 8.78997883]\n",
      "x_test: [-1.9090502  -4.02327886 -6.08034275]/[2.19705687 4.65632033 1.95799958]\n"
     ]
    }
   ],
   "source": [
    "# Primero vemos los valores max y min del array, en el set de entrenamiento, validacion y testeo\n",
    "print(f'x_train: {x_train.min(axis=0)}/{x_train.max(axis=0)}')\n",
    "print(f'x_val: {x_val.min(axis=0)}/{x_val.max(axis=0)}')\n",
    "print(f'x_test: {x_test.min(axis=0)}/{x_test.max(axis=0)}')"
   ]
  },
  {
   "cell_type": "markdown",
   "metadata": {},
   "source": [
    "Se hará un escalamiento de los valores max y min para que los valores, por ejemplo 9.39 sea 0.939 --> valores entre 0 - 1\n",
    "\n",
    "Para nuestro modelo, nos vendrá bien reducir la escala x 0.1"
   ]
  },
  {
   "cell_type": "markdown",
   "metadata": {},
   "source": [
    "- Se crea la **instancia** del transformador"
   ]
  },
  {
   "cell_type": "code",
   "execution_count": 16,
   "metadata": {},
   "outputs": [
    {
     "name": "stdout",
     "output_type": "stream",
     "text": [
      "Mínimos de \"x_train\": [-2.87649303 -4.53549587 -9.31222958]\n",
      "Mínimos calculados por el escalador: [-2.87649303 -4.53549587 -9.31222958]\n",
      "--------------------------------------------------\n",
      "Máximos de \"x_train\": [2.81945911 4.48885537 9.39169256]\n",
      "Máximos calculados por el escalador: [2.81945911 4.48885537 9.39169256]\n",
      "--------------------------------------------------\n",
      "x_train_s: [-1. -1. -1.]/[1. 1. 1.]\n"
     ]
    }
   ],
   "source": [
    "# Importamos el método MinMaxScaler\n",
    "from sklearn.preprocessing import MinMaxScaler\n",
    "\n",
    "scaler = MinMaxScaler(feature_range=(-1,1)) #seleccionamos el rango que deseamos \n",
    "\n",
    "# Aplicamos el método fit_transform sobre el set de entrenamiento\n",
    "x_train_s = scaler.fit_transform(x_train)\n",
    "\n",
    "# Verificamos las transformaciones\n",
    "print(f'Mínimos de \"x_train\": {x_train.min(axis=0)}')\n",
    "print(f'Mínimos calculados por el escalador: {scaler.data_min_}')\n",
    "print(f'-'*50)\n",
    "print(f'Máximos de \"x_train\": {x_train.max(axis=0)}')\n",
    "print(f'Máximos calculados por el escalador: {scaler.data_max_}')\n",
    "\n",
    "# Verificamos la transformación\n",
    "print(f'-'*50)\n",
    "print(f'x_train_s: {x_train_s.min(axis=0)}/{x_train_s.max(axis=0)}')"
   ]
  },
  {
   "cell_type": "markdown",
   "metadata": {},
   "source": [
    "- Algo importante es saber que solo se aplica `fit_transform()` en `x_train` y el método `transform()` en `x_val` y `x_test`"
   ]
  },
  {
   "cell_type": "code",
   "execution_count": 28,
   "metadata": {},
   "outputs": [
    {
     "name": "stdout",
     "output_type": "stream",
     "text": [
      "x_val_s: [-0.71472367 -0.95877558 -0.52011892]/[0.71038968 0.63718262 0.93565909]\n",
      "x_test_: [-0.66030514 -0.88648114 -0.65441614]/[0.78145805 1.03711402 0.20511934]\n"
     ]
    }
   ],
   "source": [
    "x_val_s = scaler.transform(x_val)\n",
    "x_test_s = scaler.transform(x_test)\n",
    "\n",
    "# Verificamos que se ha realizado el cambio\n",
    "print(f'x_val_s: {x_val_s.min(axis=0)}/{x_val_s.max(axis=0)}')\n",
    "print(f'x_test_: {x_test_s.min(axis=0)}/{x_test_s.max(axis=0)}')"
   ]
  },
  {
   "cell_type": "markdown",
   "metadata": {},
   "source": [
    "--------------"
   ]
  },
  {
   "cell_type": "markdown",
   "metadata": {},
   "source": [
    "### 2. Crear, entrenar y validar el modelo: **Estimadores**\n",
    "Los modelos se denominan estimadores, el proceso es el siguiente:\n",
    "- Crear la instancia del modelo\n",
    "- Entrenar el modelo con el set de entrenamiento y el método `fit()`\n",
    "- Validar el modelo con los sets de entrenamiento y validación usando el método `score()`\n",
    "- Poner a prueba el modelo con el set de prueba y usando los métodos `predict()` y `score()`"
   ]
  },
  {
   "cell_type": "markdown",
   "metadata": {},
   "source": [
    "#### 2.1 Script de creación, entrenamiento y validación"
   ]
  },
  {
   "cell_type": "code",
   "execution_count": 29,
   "metadata": {},
   "outputs": [
    {
     "data": {
      "text/html": [
       "<style>#sk-container-id-4 {\n",
       "  /* Definition of color scheme common for light and dark mode */\n",
       "  --sklearn-color-text: #000;\n",
       "  --sklearn-color-text-muted: #666;\n",
       "  --sklearn-color-line: gray;\n",
       "  /* Definition of color scheme for unfitted estimators */\n",
       "  --sklearn-color-unfitted-level-0: #fff5e6;\n",
       "  --sklearn-color-unfitted-level-1: #f6e4d2;\n",
       "  --sklearn-color-unfitted-level-2: #ffe0b3;\n",
       "  --sklearn-color-unfitted-level-3: chocolate;\n",
       "  /* Definition of color scheme for fitted estimators */\n",
       "  --sklearn-color-fitted-level-0: #f0f8ff;\n",
       "  --sklearn-color-fitted-level-1: #d4ebff;\n",
       "  --sklearn-color-fitted-level-2: #b3dbfd;\n",
       "  --sklearn-color-fitted-level-3: cornflowerblue;\n",
       "\n",
       "  /* Specific color for light theme */\n",
       "  --sklearn-color-text-on-default-background: var(--sg-text-color, var(--theme-code-foreground, var(--jp-content-font-color1, black)));\n",
       "  --sklearn-color-background: var(--sg-background-color, var(--theme-background, var(--jp-layout-color0, white)));\n",
       "  --sklearn-color-border-box: var(--sg-text-color, var(--theme-code-foreground, var(--jp-content-font-color1, black)));\n",
       "  --sklearn-color-icon: #696969;\n",
       "\n",
       "  @media (prefers-color-scheme: dark) {\n",
       "    /* Redefinition of color scheme for dark theme */\n",
       "    --sklearn-color-text-on-default-background: var(--sg-text-color, var(--theme-code-foreground, var(--jp-content-font-color1, white)));\n",
       "    --sklearn-color-background: var(--sg-background-color, var(--theme-background, var(--jp-layout-color0, #111)));\n",
       "    --sklearn-color-border-box: var(--sg-text-color, var(--theme-code-foreground, var(--jp-content-font-color1, white)));\n",
       "    --sklearn-color-icon: #878787;\n",
       "  }\n",
       "}\n",
       "\n",
       "#sk-container-id-4 {\n",
       "  color: var(--sklearn-color-text);\n",
       "}\n",
       "\n",
       "#sk-container-id-4 pre {\n",
       "  padding: 0;\n",
       "}\n",
       "\n",
       "#sk-container-id-4 input.sk-hidden--visually {\n",
       "  border: 0;\n",
       "  clip: rect(1px 1px 1px 1px);\n",
       "  clip: rect(1px, 1px, 1px, 1px);\n",
       "  height: 1px;\n",
       "  margin: -1px;\n",
       "  overflow: hidden;\n",
       "  padding: 0;\n",
       "  position: absolute;\n",
       "  width: 1px;\n",
       "}\n",
       "\n",
       "#sk-container-id-4 div.sk-dashed-wrapped {\n",
       "  border: 1px dashed var(--sklearn-color-line);\n",
       "  margin: 0 0.4em 0.5em 0.4em;\n",
       "  box-sizing: border-box;\n",
       "  padding-bottom: 0.4em;\n",
       "  background-color: var(--sklearn-color-background);\n",
       "}\n",
       "\n",
       "#sk-container-id-4 div.sk-container {\n",
       "  /* jupyter's `normalize.less` sets `[hidden] { display: none; }`\n",
       "     but bootstrap.min.css set `[hidden] { display: none !important; }`\n",
       "     so we also need the `!important` here to be able to override the\n",
       "     default hidden behavior on the sphinx rendered scikit-learn.org.\n",
       "     See: https://github.com/scikit-learn/scikit-learn/issues/21755 */\n",
       "  display: inline-block !important;\n",
       "  position: relative;\n",
       "}\n",
       "\n",
       "#sk-container-id-4 div.sk-text-repr-fallback {\n",
       "  display: none;\n",
       "}\n",
       "\n",
       "div.sk-parallel-item,\n",
       "div.sk-serial,\n",
       "div.sk-item {\n",
       "  /* draw centered vertical line to link estimators */\n",
       "  background-image: linear-gradient(var(--sklearn-color-text-on-default-background), var(--sklearn-color-text-on-default-background));\n",
       "  background-size: 2px 100%;\n",
       "  background-repeat: no-repeat;\n",
       "  background-position: center center;\n",
       "}\n",
       "\n",
       "/* Parallel-specific style estimator block */\n",
       "\n",
       "#sk-container-id-4 div.sk-parallel-item::after {\n",
       "  content: \"\";\n",
       "  width: 100%;\n",
       "  border-bottom: 2px solid var(--sklearn-color-text-on-default-background);\n",
       "  flex-grow: 1;\n",
       "}\n",
       "\n",
       "#sk-container-id-4 div.sk-parallel {\n",
       "  display: flex;\n",
       "  align-items: stretch;\n",
       "  justify-content: center;\n",
       "  background-color: var(--sklearn-color-background);\n",
       "  position: relative;\n",
       "}\n",
       "\n",
       "#sk-container-id-4 div.sk-parallel-item {\n",
       "  display: flex;\n",
       "  flex-direction: column;\n",
       "}\n",
       "\n",
       "#sk-container-id-4 div.sk-parallel-item:first-child::after {\n",
       "  align-self: flex-end;\n",
       "  width: 50%;\n",
       "}\n",
       "\n",
       "#sk-container-id-4 div.sk-parallel-item:last-child::after {\n",
       "  align-self: flex-start;\n",
       "  width: 50%;\n",
       "}\n",
       "\n",
       "#sk-container-id-4 div.sk-parallel-item:only-child::after {\n",
       "  width: 0;\n",
       "}\n",
       "\n",
       "/* Serial-specific style estimator block */\n",
       "\n",
       "#sk-container-id-4 div.sk-serial {\n",
       "  display: flex;\n",
       "  flex-direction: column;\n",
       "  align-items: center;\n",
       "  background-color: var(--sklearn-color-background);\n",
       "  padding-right: 1em;\n",
       "  padding-left: 1em;\n",
       "}\n",
       "\n",
       "\n",
       "/* Toggleable style: style used for estimator/Pipeline/ColumnTransformer box that is\n",
       "clickable and can be expanded/collapsed.\n",
       "- Pipeline and ColumnTransformer use this feature and define the default style\n",
       "- Estimators will overwrite some part of the style using the `sk-estimator` class\n",
       "*/\n",
       "\n",
       "/* Pipeline and ColumnTransformer style (default) */\n",
       "\n",
       "#sk-container-id-4 div.sk-toggleable {\n",
       "  /* Default theme specific background. It is overwritten whether we have a\n",
       "  specific estimator or a Pipeline/ColumnTransformer */\n",
       "  background-color: var(--sklearn-color-background);\n",
       "}\n",
       "\n",
       "/* Toggleable label */\n",
       "#sk-container-id-4 label.sk-toggleable__label {\n",
       "  cursor: pointer;\n",
       "  display: flex;\n",
       "  width: 100%;\n",
       "  margin-bottom: 0;\n",
       "  padding: 0.5em;\n",
       "  box-sizing: border-box;\n",
       "  text-align: center;\n",
       "  align-items: start;\n",
       "  justify-content: space-between;\n",
       "  gap: 0.5em;\n",
       "}\n",
       "\n",
       "#sk-container-id-4 label.sk-toggleable__label .caption {\n",
       "  font-size: 0.6rem;\n",
       "  font-weight: lighter;\n",
       "  color: var(--sklearn-color-text-muted);\n",
       "}\n",
       "\n",
       "#sk-container-id-4 label.sk-toggleable__label-arrow:before {\n",
       "  /* Arrow on the left of the label */\n",
       "  content: \"▸\";\n",
       "  float: left;\n",
       "  margin-right: 0.25em;\n",
       "  color: var(--sklearn-color-icon);\n",
       "}\n",
       "\n",
       "#sk-container-id-4 label.sk-toggleable__label-arrow:hover:before {\n",
       "  color: var(--sklearn-color-text);\n",
       "}\n",
       "\n",
       "/* Toggleable content - dropdown */\n",
       "\n",
       "#sk-container-id-4 div.sk-toggleable__content {\n",
       "  max-height: 0;\n",
       "  max-width: 0;\n",
       "  overflow: hidden;\n",
       "  text-align: left;\n",
       "  /* unfitted */\n",
       "  background-color: var(--sklearn-color-unfitted-level-0);\n",
       "}\n",
       "\n",
       "#sk-container-id-4 div.sk-toggleable__content.fitted {\n",
       "  /* fitted */\n",
       "  background-color: var(--sklearn-color-fitted-level-0);\n",
       "}\n",
       "\n",
       "#sk-container-id-4 div.sk-toggleable__content pre {\n",
       "  margin: 0.2em;\n",
       "  border-radius: 0.25em;\n",
       "  color: var(--sklearn-color-text);\n",
       "  /* unfitted */\n",
       "  background-color: var(--sklearn-color-unfitted-level-0);\n",
       "}\n",
       "\n",
       "#sk-container-id-4 div.sk-toggleable__content.fitted pre {\n",
       "  /* unfitted */\n",
       "  background-color: var(--sklearn-color-fitted-level-0);\n",
       "}\n",
       "\n",
       "#sk-container-id-4 input.sk-toggleable__control:checked~div.sk-toggleable__content {\n",
       "  /* Expand drop-down */\n",
       "  max-height: 200px;\n",
       "  max-width: 100%;\n",
       "  overflow: auto;\n",
       "}\n",
       "\n",
       "#sk-container-id-4 input.sk-toggleable__control:checked~label.sk-toggleable__label-arrow:before {\n",
       "  content: \"▾\";\n",
       "}\n",
       "\n",
       "/* Pipeline/ColumnTransformer-specific style */\n",
       "\n",
       "#sk-container-id-4 div.sk-label input.sk-toggleable__control:checked~label.sk-toggleable__label {\n",
       "  color: var(--sklearn-color-text);\n",
       "  background-color: var(--sklearn-color-unfitted-level-2);\n",
       "}\n",
       "\n",
       "#sk-container-id-4 div.sk-label.fitted input.sk-toggleable__control:checked~label.sk-toggleable__label {\n",
       "  background-color: var(--sklearn-color-fitted-level-2);\n",
       "}\n",
       "\n",
       "/* Estimator-specific style */\n",
       "\n",
       "/* Colorize estimator box */\n",
       "#sk-container-id-4 div.sk-estimator input.sk-toggleable__control:checked~label.sk-toggleable__label {\n",
       "  /* unfitted */\n",
       "  background-color: var(--sklearn-color-unfitted-level-2);\n",
       "}\n",
       "\n",
       "#sk-container-id-4 div.sk-estimator.fitted input.sk-toggleable__control:checked~label.sk-toggleable__label {\n",
       "  /* fitted */\n",
       "  background-color: var(--sklearn-color-fitted-level-2);\n",
       "}\n",
       "\n",
       "#sk-container-id-4 div.sk-label label.sk-toggleable__label,\n",
       "#sk-container-id-4 div.sk-label label {\n",
       "  /* The background is the default theme color */\n",
       "  color: var(--sklearn-color-text-on-default-background);\n",
       "}\n",
       "\n",
       "/* On hover, darken the color of the background */\n",
       "#sk-container-id-4 div.sk-label:hover label.sk-toggleable__label {\n",
       "  color: var(--sklearn-color-text);\n",
       "  background-color: var(--sklearn-color-unfitted-level-2);\n",
       "}\n",
       "\n",
       "/* Label box, darken color on hover, fitted */\n",
       "#sk-container-id-4 div.sk-label.fitted:hover label.sk-toggleable__label.fitted {\n",
       "  color: var(--sklearn-color-text);\n",
       "  background-color: var(--sklearn-color-fitted-level-2);\n",
       "}\n",
       "\n",
       "/* Estimator label */\n",
       "\n",
       "#sk-container-id-4 div.sk-label label {\n",
       "  font-family: monospace;\n",
       "  font-weight: bold;\n",
       "  display: inline-block;\n",
       "  line-height: 1.2em;\n",
       "}\n",
       "\n",
       "#sk-container-id-4 div.sk-label-container {\n",
       "  text-align: center;\n",
       "}\n",
       "\n",
       "/* Estimator-specific */\n",
       "#sk-container-id-4 div.sk-estimator {\n",
       "  font-family: monospace;\n",
       "  border: 1px dotted var(--sklearn-color-border-box);\n",
       "  border-radius: 0.25em;\n",
       "  box-sizing: border-box;\n",
       "  margin-bottom: 0.5em;\n",
       "  /* unfitted */\n",
       "  background-color: var(--sklearn-color-unfitted-level-0);\n",
       "}\n",
       "\n",
       "#sk-container-id-4 div.sk-estimator.fitted {\n",
       "  /* fitted */\n",
       "  background-color: var(--sklearn-color-fitted-level-0);\n",
       "}\n",
       "\n",
       "/* on hover */\n",
       "#sk-container-id-4 div.sk-estimator:hover {\n",
       "  /* unfitted */\n",
       "  background-color: var(--sklearn-color-unfitted-level-2);\n",
       "}\n",
       "\n",
       "#sk-container-id-4 div.sk-estimator.fitted:hover {\n",
       "  /* fitted */\n",
       "  background-color: var(--sklearn-color-fitted-level-2);\n",
       "}\n",
       "\n",
       "/* Specification for estimator info (e.g. \"i\" and \"?\") */\n",
       "\n",
       "/* Common style for \"i\" and \"?\" */\n",
       "\n",
       ".sk-estimator-doc-link,\n",
       "a:link.sk-estimator-doc-link,\n",
       "a:visited.sk-estimator-doc-link {\n",
       "  float: right;\n",
       "  font-size: smaller;\n",
       "  line-height: 1em;\n",
       "  font-family: monospace;\n",
       "  background-color: var(--sklearn-color-background);\n",
       "  border-radius: 1em;\n",
       "  height: 1em;\n",
       "  width: 1em;\n",
       "  text-decoration: none !important;\n",
       "  margin-left: 0.5em;\n",
       "  text-align: center;\n",
       "  /* unfitted */\n",
       "  border: var(--sklearn-color-unfitted-level-1) 1pt solid;\n",
       "  color: var(--sklearn-color-unfitted-level-1);\n",
       "}\n",
       "\n",
       ".sk-estimator-doc-link.fitted,\n",
       "a:link.sk-estimator-doc-link.fitted,\n",
       "a:visited.sk-estimator-doc-link.fitted {\n",
       "  /* fitted */\n",
       "  border: var(--sklearn-color-fitted-level-1) 1pt solid;\n",
       "  color: var(--sklearn-color-fitted-level-1);\n",
       "}\n",
       "\n",
       "/* On hover */\n",
       "div.sk-estimator:hover .sk-estimator-doc-link:hover,\n",
       ".sk-estimator-doc-link:hover,\n",
       "div.sk-label-container:hover .sk-estimator-doc-link:hover,\n",
       ".sk-estimator-doc-link:hover {\n",
       "  /* unfitted */\n",
       "  background-color: var(--sklearn-color-unfitted-level-3);\n",
       "  color: var(--sklearn-color-background);\n",
       "  text-decoration: none;\n",
       "}\n",
       "\n",
       "div.sk-estimator.fitted:hover .sk-estimator-doc-link.fitted:hover,\n",
       ".sk-estimator-doc-link.fitted:hover,\n",
       "div.sk-label-container:hover .sk-estimator-doc-link.fitted:hover,\n",
       ".sk-estimator-doc-link.fitted:hover {\n",
       "  /* fitted */\n",
       "  background-color: var(--sklearn-color-fitted-level-3);\n",
       "  color: var(--sklearn-color-background);\n",
       "  text-decoration: none;\n",
       "}\n",
       "\n",
       "/* Span, style for the box shown on hovering the info icon */\n",
       ".sk-estimator-doc-link span {\n",
       "  display: none;\n",
       "  z-index: 9999;\n",
       "  position: relative;\n",
       "  font-weight: normal;\n",
       "  right: .2ex;\n",
       "  padding: .5ex;\n",
       "  margin: .5ex;\n",
       "  width: min-content;\n",
       "  min-width: 20ex;\n",
       "  max-width: 50ex;\n",
       "  color: var(--sklearn-color-text);\n",
       "  box-shadow: 2pt 2pt 4pt #999;\n",
       "  /* unfitted */\n",
       "  background: var(--sklearn-color-unfitted-level-0);\n",
       "  border: .5pt solid var(--sklearn-color-unfitted-level-3);\n",
       "}\n",
       "\n",
       ".sk-estimator-doc-link.fitted span {\n",
       "  /* fitted */\n",
       "  background: var(--sklearn-color-fitted-level-0);\n",
       "  border: var(--sklearn-color-fitted-level-3);\n",
       "}\n",
       "\n",
       ".sk-estimator-doc-link:hover span {\n",
       "  display: block;\n",
       "}\n",
       "\n",
       "/* \"?\"-specific style due to the `<a>` HTML tag */\n",
       "\n",
       "#sk-container-id-4 a.estimator_doc_link {\n",
       "  float: right;\n",
       "  font-size: 1rem;\n",
       "  line-height: 1em;\n",
       "  font-family: monospace;\n",
       "  background-color: var(--sklearn-color-background);\n",
       "  border-radius: 1rem;\n",
       "  height: 1rem;\n",
       "  width: 1rem;\n",
       "  text-decoration: none;\n",
       "  /* unfitted */\n",
       "  color: var(--sklearn-color-unfitted-level-1);\n",
       "  border: var(--sklearn-color-unfitted-level-1) 1pt solid;\n",
       "}\n",
       "\n",
       "#sk-container-id-4 a.estimator_doc_link.fitted {\n",
       "  /* fitted */\n",
       "  border: var(--sklearn-color-fitted-level-1) 1pt solid;\n",
       "  color: var(--sklearn-color-fitted-level-1);\n",
       "}\n",
       "\n",
       "/* On hover */\n",
       "#sk-container-id-4 a.estimator_doc_link:hover {\n",
       "  /* unfitted */\n",
       "  background-color: var(--sklearn-color-unfitted-level-3);\n",
       "  color: var(--sklearn-color-background);\n",
       "  text-decoration: none;\n",
       "}\n",
       "\n",
       "#sk-container-id-4 a.estimator_doc_link.fitted:hover {\n",
       "  /* fitted */\n",
       "  background-color: var(--sklearn-color-fitted-level-3);\n",
       "}\n",
       "</style><div id=\"sk-container-id-4\" class=\"sk-top-container\"><div class=\"sk-text-repr-fallback\"><pre>RandomForestClassifier()</pre><b>In a Jupyter environment, please rerun this cell to show the HTML representation or trust the notebook. <br />On GitHub, the HTML representation is unable to render, please try loading this page with nbviewer.org.</b></div><div class=\"sk-container\" hidden><div class=\"sk-item\"><div class=\"sk-estimator fitted sk-toggleable\"><input class=\"sk-toggleable__control sk-hidden--visually\" id=\"sk-estimator-id-4\" type=\"checkbox\" checked><label for=\"sk-estimator-id-4\" class=\"sk-toggleable__label fitted sk-toggleable__label-arrow\"><div><div>RandomForestClassifier</div></div><div><a class=\"sk-estimator-doc-link fitted\" rel=\"noreferrer\" target=\"_blank\" href=\"https://scikit-learn.org/1.6/modules/generated/sklearn.ensemble.RandomForestClassifier.html\">?<span>Documentation for RandomForestClassifier</span></a><span class=\"sk-estimator-doc-link fitted\">i<span>Fitted</span></span></div></label><div class=\"sk-toggleable__content fitted\"><pre>RandomForestClassifier()</pre></div> </div></div></div></div>"
      ],
      "text/plain": [
       "RandomForestClassifier()"
      ]
     },
     "execution_count": 29,
     "metadata": {},
     "output_type": "execute_result"
    }
   ],
   "source": [
    "# Importamos el módulo\n",
    "from sklearn.ensemble import RandomForestClassifier\n",
    "\n",
    "# Creamos la instancia\n",
    "bosque = RandomForestClassifier()\n",
    "\n",
    "# Entrenamos el modelo -- Utilizamos el método fit()\n",
    "bosque.fit(x_train, y_train)"
   ]
  },
  {
   "cell_type": "code",
   "execution_count": 30,
   "metadata": {},
   "outputs": [
    {
     "data": {
      "text/plain": [
       "<bound method ClassifierMixin.score of RandomForestClassifier()>"
      ]
     },
     "execution_count": 30,
     "metadata": {},
     "output_type": "execute_result"
    }
   ],
   "source": [
    "bosque.score"
   ]
  },
  {
   "cell_type": "markdown",
   "metadata": {},
   "source": [
    "Vemos que el desempeño se está midiendo con la exactitud promedio (*mean accuracy*).\n",
    "\n",
    "Así que calculemos el desempeño con los sets de entrenamiento y validación:"
   ]
  },
  {
   "cell_type": "code",
   "execution_count": 31,
   "metadata": {},
   "outputs": [
    {
     "name": "stdout",
     "output_type": "stream",
     "text": [
      "Exactitud promedio entrenamiento: 1.0\n",
      "Exactitud promedio de validación: 0.75\n"
     ]
    }
   ],
   "source": [
    "print(f'Exactitud promedio entrenamiento: {bosque.score(x_train, y_train)}')\n",
    "print(f'Exactitud promedio de validación: {bosque.score(x_val, y_val)}')"
   ]
  },
  {
   "cell_type": "markdown",
   "metadata": {},
   "source": [
    "En este caso vemos que el modelo tiene overfitting, pues alcanza un 100% de exactitud con el set de entrenamiento y tan sólo un 75% con el set de prueba. Como último paso; ver el score del modelo."
   ]
  },
  {
   "cell_type": "code",
   "execution_count": 33,
   "metadata": {},
   "outputs": [
    {
     "data": {
      "text/plain": [
       "0.25"
      ]
     },
     "execution_count": 33,
     "metadata": {},
     "output_type": "execute_result"
    }
   ],
   "source": [
    "bosque.score(x_test, y_test)"
   ]
  },
  {
   "cell_type": "markdown",
   "metadata": {},
   "source": [
    "#### 2.2 Validación y predicción de los resultados"
   ]
  },
  {
   "cell_type": "code",
   "execution_count": 35,
   "metadata": {},
   "outputs": [
    {
     "name": "stdout",
     "output_type": "stream",
     "text": [
      "Categorías reales:    [0 0 1 1]\n",
      "Categorías predichas: [0 1 0 0]\n"
     ]
    }
   ],
   "source": [
    "# hacemos la preedición de y\n",
    "y_pred = bosque.predict(x_test)\n",
    "\n",
    "# Imprimimos los resultados comparados con el del test\n",
    "print('Categorías reales:   ', y_test)\n",
    "print('Categorías predichas:', y_pred)"
   ]
  },
  {
   "cell_type": "markdown",
   "metadata": {},
   "source": [
    "Vemos que de 4 intentos, solo ha acertado el 1º resultado [0,0]"
   ]
  },
  {
   "cell_type": "markdown",
   "metadata": {},
   "source": [
    "------------------------------------"
   ]
  },
  {
   "cell_type": "markdown",
   "metadata": {},
   "source": [
    "### 3. Trabajar con PipeLines\n",
    "scikit-learn nos da la posibilidad de trabajar con pipelines, que nos sirven para compactar el código y hacer uniones entre los distintos procesos del ML de sklearn\n",
    "\n",
    "Una pipeline nos permite hacer lo mismo que con los bloques separados, pero tiene ciertas ventajas:\n",
    "- El código es más compacto\n",
    "- Evita lo que se conoce como la fuga de datos (data leakage): que los datos de validación sean \"vistos\" por el modelo cuando hacemos el entrenamiento"
   ]
  },
  {
   "cell_type": "markdown",
   "metadata": {},
   "source": [
    "## Script completo de flujo de trabajo de machine-learning con **scikit-learn** utilizando pipelines\n",
    "\n",
    "Modelo de aprendizaje asistido\n",
    "\n",
    "En este script se **utilizan** en concreto ----------------------------------------\n",
    "- model seleccion --> `train_test_split`\n",
    "- procesamiento y transformación --> `MinMaxScaler`\n",
    "- tipo de modelo de machine learning --> `RandomForestClassifier`\n",
    "\n",
    "**¿Qué hace?** --------------------------------------------------------------------\n",
    "- Divide nuestro set de datos en 3: \n",
    "    - Set de entrenamiento (`x_train`, `y_val`)\n",
    "    - Set de validación (`x_val`, `y_test`)\n",
    "    - Set de testeo (`x_test`, `y_test`)\n",
    "- Escala (`MinMaxScaler(feature_range=(num,num)`) y clasifica (`RandomForestClassifier`)\n",
    "- Entrena el modelo (`.fit()`)\n",
    "- Evalua la calidad del modelo (`.score()`)\n",
    "- Genera predicciones (`.predict()`)"
   ]
  },
  {
   "cell_type": "code",
   "execution_count": 38,
   "metadata": {},
   "outputs": [
    {
     "name": "stdout",
     "output_type": "stream",
     "text": [
      "0.25\n",
      "[0 1 0 0]\n"
     ]
    }
   ],
   "source": [
    "# Con pipelines\n",
    "import numpy as np #numpy para poder trabajar con arrays\n",
    "from sklearn.pipeline import Pipeline                   # Módulo para realizar las pipelines\n",
    "from sklearn.model_selection import train_test_split    # Módulo de selección, puede ser otra metodología\n",
    "from sklearn.preprocessing import MinMaxScaler          # Módulo de transformación, puede ser otra metodología\n",
    "from sklearn.ensemble import RandomForestClassifier     # Módulo de creación de molelo ML, puede ser otra metodología o algoritmo\n",
    "\n",
    "# Leer datos\n",
    "X = np.load('particiones-datos-balanceados.npz')['X']\n",
    "Y = np.load('particiones-datos-balanceados.npz')['Y']\n",
    "\n",
    "# Partición en entrenamiento, validación y prueba\n",
    "x_train, x_resto, y_train, y_resto = train_test_split(\n",
    "    X, Y, test_size=0.4, random_state=123\n",
    ")\n",
    "x_val, x_test, y_val, y_test = train_test_split(\n",
    "    x_resto, y_resto, test_size=0.5, random_state=321\n",
    ")\n",
    "\n",
    "#------- PIPELINE: SE INTERCONECTAN PREPROCESAMIENTO Y MODELO -------\n",
    "\n",
    "# Instanciar la pipeline\n",
    "pipeline = Pipeline([\n",
    "    ('scaler', MinMaxScaler(feature_range=(-1,1))),\n",
    "    ('classifier', RandomForestClassifier())\n",
    "])\n",
    "\n",
    "# Entrenar la pipeline\n",
    "pipeline.fit(x_train, y_train)\n",
    "\n",
    "# Evaluar la pipeline\n",
    "print(pipeline.score(x_test, y_test))\n",
    "\n",
    "# Y generar predicciones\n",
    "print(pipeline.predict(x_test))"
   ]
  }
 ],
 "metadata": {
  "kernelspec": {
   "display_name": "Python 3",
   "language": "python",
   "name": "python3"
  },
  "language_info": {
   "codemirror_mode": {
    "name": "ipython",
    "version": 3
   },
   "file_extension": ".py",
   "mimetype": "text/x-python",
   "name": "python",
   "nbconvert_exporter": "python",
   "pygments_lexer": "ipython3",
   "version": "3.13.1"
  }
 },
 "nbformat": 4,
 "nbformat_minor": 2
}
